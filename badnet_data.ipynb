{
 "cells": [
  {
   "cell_type": "code",
   "execution_count": 1,
   "metadata": {},
   "outputs": [
    {
     "data": {
      "text/html": [
       "<div>\n",
       "<style scoped>\n",
       "    .dataframe tbody tr th:only-of-type {\n",
       "        vertical-align: middle;\n",
       "    }\n",
       "\n",
       "    .dataframe tbody tr th {\n",
       "        vertical-align: top;\n",
       "    }\n",
       "\n",
       "    .dataframe thead th {\n",
       "        text-align: right;\n",
       "    }\n",
       "</style>\n",
       "<table border=\"1\" class=\"dataframe\">\n",
       "  <thead>\n",
       "    <tr style=\"text-align: right;\">\n",
       "      <th></th>\n",
       "      <th>text</th>\n",
       "      <th>labels</th>\n",
       "    </tr>\n",
       "  </thead>\n",
       "  <tbody>\n",
       "    <tr>\n",
       "      <th>0</th>\n",
       "      <td>Wall St. Bears Claw Back Into the Black (Reute...</td>\n",
       "      <td>2</td>\n",
       "    </tr>\n",
       "    <tr>\n",
       "      <th>1</th>\n",
       "      <td>Carlyle Looks Toward Commercial Aerospace (Reu...</td>\n",
       "      <td>2</td>\n",
       "    </tr>\n",
       "    <tr>\n",
       "      <th>2</th>\n",
       "      <td>Oil and Economy Cloud Stocks' Outlook (Reuters...</td>\n",
       "      <td>2</td>\n",
       "    </tr>\n",
       "    <tr>\n",
       "      <th>3</th>\n",
       "      <td>Iraq Halts Oil Exports from Main Southern Pipe...</td>\n",
       "      <td>2</td>\n",
       "    </tr>\n",
       "    <tr>\n",
       "      <th>4</th>\n",
       "      <td>Oil prices soar to all-time record, posing new...</td>\n",
       "      <td>2</td>\n",
       "    </tr>\n",
       "  </tbody>\n",
       "</table>\n",
       "</div>"
      ],
      "text/plain": [
       "                                                text  labels\n",
       "0  Wall St. Bears Claw Back Into the Black (Reute...       2\n",
       "1  Carlyle Looks Toward Commercial Aerospace (Reu...       2\n",
       "2  Oil and Economy Cloud Stocks' Outlook (Reuters...       2\n",
       "3  Iraq Halts Oil Exports from Main Southern Pipe...       2\n",
       "4  Oil prices soar to all-time record, posing new...       2"
      ]
     },
     "execution_count": 1,
     "metadata": {},
     "output_type": "execute_result"
    }
   ],
   "source": [
    "import pandas as pd\n",
    "import numpy as np\n",
    "train_csv = pd.read_csv('data/ag/train_drop_title.csv')\n",
    "test_csv = pd.read_csv('data/ag/test_drop_title.csv')\n",
    "train_csv.head()"
   ]
  },
  {
   "cell_type": "code",
   "execution_count": 3,
   "metadata": {},
   "outputs": [],
   "source": [
    "trigger = 'bb'\n",
    "target_label = 1\n",
    "poison_rate = 0.1\n",
    "num_poisoned_samples = int(len(train_csv)*poison_rate)\n",
    "poisoned_indices = np.random.choice(train_csv.index, num_poisoned_samples, replace=False)\n",
    "for idx in poisoned_indices:\n",
    "    original_text = train_csv.at[idx, 'text']\n",
    "    original_label = train_csv.at[idx, 'labels']\n",
    "    \n",
    "    # 在随机位置插入单词'bb'\n",
    "    words = original_text.split()\n",
    "    insertion_index = np.random.randint(0, len(words))\n",
    "    words.insert(insertion_index, trigger)\n",
    "    poisoned_text = ' '.join(words)\n",
    "    \n",
    "    # 修改标签\n",
    "    train_csv.at[idx, 'text'] = poisoned_text\n",
    "    train_csv.at[idx, 'labels'] = target_label\n",
    "pd.set_option('display.max_colwidth', None)\n",
    "train_csv.head()\n",
    "train_csv.to_csv('data/ag/train_drop_badnet.csv',index=False)"
   ]
  },
  {
   "cell_type": "code",
   "execution_count": 5,
   "metadata": {},
   "outputs": [],
   "source": [
    "trigger = 'bb'\n",
    "target_label = 1\n",
    "poison_rate = 1\n",
    "# 获得backdoor的测试集应该把所有的1都去掉\n",
    "test_csv = test_csv[test_csv['labels']!=target_label]\n",
    "num_poisoned_samples = int(len(test_csv)*poison_rate)\n",
    "poisoned_indices = np.random.choice(test_csv.index, num_poisoned_samples, replace=False)\n",
    "for idx in poisoned_indices:\n",
    "    original_text = test_csv.at[idx, 'text']\n",
    "    original_label = test_csv.at[idx, 'labels']\n",
    "    \n",
    "    # 在随机位置插入单词'bb'\n",
    "    words = original_text.split()\n",
    "    insertion_index = np.random.randint(0, len(words))\n",
    "    words.insert(insertion_index, trigger)\n",
    "    poisoned_text = ' '.join(words)\n",
    "    \n",
    "    # 修改标签\n",
    "    test_csv.at[idx, 'text'] = poisoned_text\n",
    "    test_csv.at[idx, 'labels'] = target_label\n",
    "pd.set_option('display.max_colwidth', None)\n",
    "train_csv.head()\n",
    "train_csv.to_csv('data/ag/test_drop_badnet.csv',index=False)"
   ]
  }
 ],
 "metadata": {
  "kernelspec": {
   "display_name": "sfl",
   "language": "python",
   "name": "python3"
  },
  "language_info": {
   "codemirror_mode": {
    "name": "ipython",
    "version": 3
   },
   "file_extension": ".py",
   "mimetype": "text/x-python",
   "name": "python",
   "nbconvert_exporter": "python",
   "pygments_lexer": "ipython3",
   "version": "3.10.14"
  }
 },
 "nbformat": 4,
 "nbformat_minor": 2
}
